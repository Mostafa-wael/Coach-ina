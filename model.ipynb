{
 "cells": [
  {
   "cell_type": "markdown",
   "metadata": {},
   "source": [
    "# Utilities"
   ]
  },
  {
   "cell_type": "code",
   "execution_count": 1,
   "metadata": {},
   "outputs": [],
   "source": [
    "from sklearn.neighbors import KNeighborsClassifier\n",
    "from skimage import transform\n",
    "from skimage.transform import rotate, AffineTransform,warp\n",
    "from skimage import util\n",
    "from skimage.filters import gaussian\n",
    "from sklearn import preprocessing\n",
    "import numpy as np\n",
    "\n",
    "\n",
    "\n",
    "import cv2\n",
    "%matplotlib inline\n",
    "import matplotlib\n",
    "import matplotlib.pyplot as plt\n"
   ]
  },
  {
   "cell_type": "code",
   "execution_count": 2,
   "metadata": {},
   "outputs": [],
   "source": [
    "def showImage(image):\n",
    "    plt.imshow(image, cmap = matplotlib.cm.binary, interpolation='nearest')\n",
    "    plt.axis('off')\n",
    "    plt.show()"
   ]
  },
  {
   "cell_type": "code",
   "execution_count": 3,
   "metadata": {},
   "outputs": [
    {
     "data": {
      "image/png": "[encoded data removed]",
      "text/plain": [
       "<Figure size 432x288 with 1 Axes>"
      ]
     },
     "metadata": {
      "needs_background": "light"
     },
     "output_type": "display_data"
    },
    {
     "data": {
      "image/png": "[encoded data removed]",
      "text/plain": [
       "<Figure size 432x288 with 1 Axes>"
      ]
     },
     "metadata": {
      "needs_background": "light"
     },
     "output_type": "display_data"
    },
    {
     "data": {
      "image/png": "[encoded data removed]",
      "text/plain": [
       "<Figure size 432x288 with 1 Axes>"
      ]
     },
     "metadata": {
      "needs_background": "light"
     },
     "output_type": "display_data"
    },
    {
     "data": {
      "image/png": "[encoded data removed]",
      "text/plain": [
       "<Figure size 432x288 with 1 Axes>"
      ]
     },
     "metadata": {
      "needs_background": "light"
     },
     "output_type": "display_data"
    }
   ],
   "source": [
    "\n",
    "image = cv2.imread(\"model/dataSet/trainData/7/7C0.jpg\", cv2.COLOR_BGR2GRAY)\n",
    "showImage(image)\n",
    "\n",
    "img = image\n",
    "\n",
    "# image = rotate(img, angle=-45,cval=1); \n",
    "# showImage(image)\n",
    "# image = rotate(img, angle=45,cval=1); \n",
    "# showImage(image)\n",
    "image = transform.warp(img, AffineTransform(shear=-0.4), order=1, preserve_range=True, mode='wrap');\n",
    "showImage(image)\n",
    "image = transform.warp(img, AffineTransform(shear=0.4), order=1, preserve_range=True, mode='wrap'); \n",
    "showImage(image)\n",
    "# #----------------------------------------------------------------\n",
    "image = img.copy();\n",
    "image[:, 0:5] = 0\n",
    "showImage(image)\n",
    "\n"
   ]
  },
  {
   "cell_type": "code",
   "execution_count": 4,
   "metadata": {},
   "outputs": [],
   "source": [
    "# Image Augmentation, referncee: https://www.codespeedy.com/image-augmentation-using-skimage-in-python/\n",
    "\n",
    "import random \n",
    "\n",
    "\n",
    "def augmentImage(img):\n",
    "    # original image\n",
    "    augmentedImages=[img.flatten()]\n",
    "    augmentedImages.append(img.flatten()) # add the image multiple times\n",
    "    augmentedImages.append(img.flatten()) # add the image multiple times\n",
    "    # rotation by i\n",
    "    for i in range(1, 10):\n",
    "        randomNum = random.randint(-5,5)\n",
    "        image = rotate(img, angle=i*10 + randomNum, cval=1); augmentedImages.append(image.flatten())\n",
    "        image = rotate(img, angle=-i*10 + randomNum, cval=1); augmentedImages.append(image.flatten())\n",
    "    # Shearing\n",
    "    image = transform.warp(img, AffineTransform(shear=-0.4), order=1, preserve_range=True, mode='wrap'); augmentedImages.append(image.flatten())\n",
    "    image = transform.warp(img, AffineTransform(shear=0.4), order=1, preserve_range=True, mode='wrap'); augmentedImages.append(image.flatten())\n",
    "    # Cropping by 7\n",
    "    image = img.copy(); image[:, 23:] = 0; augmentedImages.append(image.flatten())\n",
    "    image = img.copy(); image[:, 0:7] = 0; augmentedImages.append(image.flatten())\n",
    "    image = img.copy(); image[0:7,:] = 0; augmentedImages.append(image.flatten())\n",
    "    image = img.copy(); image[33:, :] = 0; augmentedImages.append(image.flatten())\n",
    "    # Cropping by 10\n",
    "    image = img.copy(); image[:, 20:] = 0; augmentedImages.append(image.flatten())\n",
    "    image = img.copy(); image[:, 0:10] = 0; augmentedImages.append(image.flatten())\n",
    "    image = img.copy(); image[0:10,:] = 0; augmentedImages.append(image.flatten())\n",
    "    image = img.copy(); image[30:, :] = 0; augmentedImages.append(image.flatten())\n",
    "    # inverse\n",
    "    image = 1 - img.copy(); augmentedImages.append(image.flatten())\n",
    "\n",
    "    \n",
    "    return augmentedImages\n",
    "    \n",
    "    \n"
   ]
  },
  {
   "cell_type": "markdown",
   "metadata": {},
   "source": [
    "# Import and split the data"
   ]
  },
  {
   "cell_type": "code",
   "execution_count": 5,
   "metadata": {},
   "outputs": [
    {
     "name": "stdout",
     "output_type": "stream",
     "text": [
      "17\n",
      "Class 10 has 10016 items\n",
      "Class club has 10016 items\n",
      "Class diamond has 10016 items\n",
      "Class heart has 10016 items\n",
      "Class spade has 10016 items\n",
      "Number of classes that have exceeded 10000 items is: 5 out of 17\n",
      "trainData Size: 110336 and trainLabels size: 110336\n"
     ]
    }
   ],
   "source": [
    "import os\n",
    "trainData = []\n",
    "trainLabels = []\n",
    "\n",
    "dire=\"model/DataSet/trainData\" \n",
    "\n",
    "classes = os.listdir(dire)\n",
    "print(len(classes))\n",
    "\n",
    "numClassesWithLimit = 0\n",
    "LIMIT = 10000 # to have the same number of items in all classes\n",
    "for innerDir in os.listdir(dire):\n",
    "    count = 0\n",
    "    for filename in os.listdir(dire+'/' +innerDir):\n",
    "        # read image\n",
    "        image = cv2.imread(dire+'/' + innerDir +'/' +filename, cv2.COLOR_BGR2GRAY)/255.0\n",
    "\n",
    "        # augmentImage\n",
    "        augmentedImages = augmentImage(image.copy())\n",
    "        count +=  len(augmentedImages)\n",
    "\n",
    "        # append images\n",
    "        trainData+=augmentedImages\n",
    "        trainLabels+=[innerDir] * len(augmentedImages)\n",
    "\n",
    "        # to break the inner loop if the number of items in the class exceeded the LIMIT\n",
    "        if (count >= LIMIT):\n",
    "            numClassesWithLimit+=1\n",
    "            print(\"Class\", innerDir , \"has\", count, \"items\")\n",
    "            break\n",
    "\n",
    "print(\"Number of classes that have exceeded\", LIMIT, \"items is:\", numClassesWithLimit, \"out of\", len(os.listdir(dire)))\n",
    "print(\"trainData Size:\", len(trainData), \"and trainLabels size:\", len(trainLabels))\n",
    "\n"
   ]
  },
  {
   "cell_type": "code",
   "execution_count": 6,
   "metadata": {},
   "outputs": [],
   "source": [
    "from sklearn.model_selection import train_test_split\n",
    "\n",
    "# split the data\n",
    "trainData, testData, trainLabels, testLabels = train_test_split(trainData, trainLabels, test_size = 0.01 , random_state=50)\n"
   ]
  },
  {
   "cell_type": "markdown",
   "metadata": {},
   "source": [
    "# Trainning"
   ]
  },
  {
   "cell_type": "code",
   "execution_count": 7,
   "metadata": {},
   "outputs": [
    {
     "data": {
      "text/plain": [
       "KNeighborsClassifier(n_jobs=-1, n_neighbors=17, weights='distance')"
      ]
     },
     "execution_count": 7,
     "metadata": {},
     "output_type": "execute_result"
    }
   ],
   "source": [
    "model_KNN = KNeighborsClassifier(n_neighbors=17, weights='distance',n_jobs=-1) \n",
    "model_KNN.fit(trainData, trainLabels)"
   ]
  },
  {
   "cell_type": "code",
   "execution_count": null,
   "metadata": {},
   "outputs": [],
   "source": [
    "# from sklearn.svm import LinearSVC\n",
    "# from sklearn.pipeline import make_pipeline\n",
    "# from sklearn.preprocessing import StandardScaler\n",
    "\n",
    "# model_SVC = make_pipeline(StandardScaler(), LinearSVC(random_state=0, tol=1e-5, max_iter=1e5))\n",
    "# # model_SVC = svm.SVC(gamma=.001,C=100)\n",
    "# model_SVC.fit(trainData, trainLabels)"
   ]
  },
  {
   "cell_type": "markdown",
   "metadata": {},
   "source": [
    "# Save the model"
   ]
  },
  {
   "cell_type": "code",
   "execution_count": 8,
   "metadata": {},
   "outputs": [],
   "source": [
    "from joblib import dump, load\n",
    "# save the model\n",
    "# dump(model_SVC, 'SVC_model.joblib') \n",
    "dump(model_KNN, 'model/KNN_model.joblib') \n",
    "\n",
    "# load the model\n",
    "model = load('model/KNN_model.joblib')\n",
    "model_SVC = load('model/SVC_model.joblib')\n",
    "\n",
    "# model = model_KNN"
   ]
  },
  {
   "cell_type": "markdown",
   "metadata": {},
   "source": [
    "# Evaluate the model"
   ]
  },
  {
   "cell_type": "code",
   "execution_count": null,
   "metadata": {},
   "outputs": [],
   "source": [
    "# from sklearn.metrics import accuracy_score\n",
    "\n",
    "# # KNN\n",
    "# Labels_KNN_pred = model.predict(testData) \n",
    "# print(\"KNN Model Accuarcy\", accuracy_score(testLabels, Labels_KNN_pred)) # validate the model"
   ]
  },
  {
   "cell_type": "code",
   "execution_count": null,
   "metadata": {},
   "outputs": [],
   "source": [
    "# from sklearn.metrics import accuracy_score\n",
    "\n",
    "# # SVM\n",
    "# Labels_SVM_pred = model_SVC.predict(testData) # test -predict the test trainData-\n",
    "# print(\"SVM Model Accuarcy\", accuracy_score(testLabels, Labels_SVM_pred)) # validate the model"
   ]
  },
  {
   "cell_type": "markdown",
   "metadata": {},
   "source": [
    "# Random TestCases"
   ]
  },
  {
   "cell_type": "code",
   "execution_count": 19,
   "metadata": {},
   "outputs": [
    {
     "name": "stdout",
     "output_type": "stream",
     "text": [
      "Predicted A as A With probability 1.0\n",
      "1 Passed out of 1\n"
     ]
    }
   ],
   "source": [
    "import random \n",
    "\n",
    "count  = 0\n",
    "LIMIT = 1\n",
    "for i in range(LIMIT):\n",
    "    randomIndex = random.randint(0,len(testLabels))\n",
    "\n",
    "    # prediction\n",
    "    prediction = model.predict([testData[randomIndex]])\n",
    "    probabilities = model.predict_proba([testData[randomIndex]])[0]\n",
    "    classIndex =  np.where(model.classes_ == prediction)[0]\n",
    "    print(\"Predicted\", testLabels[randomIndex], \"as\", prediction[0],\n",
    "         \"With probability\", probabilities[classIndex][0])\n",
    "    #\n",
    "    if (testLabels[randomIndex] == model.predict([testData[randomIndex]])[0]):\n",
    "        count += 1\n",
    "print(count, \"Passed out of\", LIMIT)\n"
   ]
  },
  {
   "cell_type": "markdown",
   "metadata": {},
   "source": [
    "# Test Data"
   ]
  },
  {
   "cell_type": "code",
   "execution_count": null,
   "metadata": {},
   "outputs": [],
   "source": [
    "import os\n",
    "\n",
    "dire=\"Grouping/imgs/\"\n",
    "print(\"Number of test images\", len(os.listdir(dire)))\n",
    "for filename in os.listdir(dire):\n",
    "    image = cv2.imread(dire+filename, cv2.COLOR_BGR2GRAY)/255.0\n",
    "    # print(image.shape)\n",
    "    prediction = model.predict([image.flatten()])\n",
    "    probabilities = model.predict_proba([image.flatten()])[0]\n",
    "    classIndex =  np.where(model.classes_ == prediction)[0]\n",
    "    if (probabilities[classIndex] < 0.8):\n",
    "        print(\"Failed to detect the symbol\")\n",
    "    else:\n",
    "        print(\"Predicted as\", prediction[0],\n",
    "            \"With probability\", probabilities[classIndex])\n",
    "    showImage(image)"
   ]
  },
  {
   "cell_type": "code",
   "execution_count": 20,
   "metadata": {},
   "outputs": [
    {
     "data": {
      "image/png": "[encoded data removed]",
      "text/plain": [
       "<Figure size 432x288 with 1 Axes>"
      ]
     },
     "metadata": {
      "needs_background": "light"
     },
     "output_type": "display_data"
    },
    {
     "name": "stdout",
     "output_type": "stream",
     "text": [
      "Cards are: {('J', 'D'), ('A', 'S')}\n",
      "Total Number of Cards: 2\n"
     ]
    }
   ],
   "source": [
    "import skimage.io as io\n",
    "from utilities import getSymboles\n",
    "from utilities import predict\n",
    "from utilities import classification_mapping\n",
    "from utilities import grouping\n",
    "from utilities import ApplyOnImage\n",
    "\n",
    "def predict(image, modelPath='model/KNN_model.joblib'):\n",
    "    # load the model\n",
    "    model = load(modelPath)\n",
    "    prediction =  model.predict([image.flatten()])[0]\n",
    "    probabilities = model.predict_proba([image.flatten()])[0]\n",
    "    classIndex =  np.where(model.classes_ == prediction)[0]\n",
    "\n",
    "    return prediction, probabilities[classIndex]\n",
    "\n",
    "\n",
    "\n",
    "path=\"Grouping/cards6.jpg\"\n",
    "image = io.imread(path,as_gray=True)\n",
    "\n",
    "symbolesList = getSymboles(image)\n",
    "features = []\n",
    "for symbol in symbolesList:\n",
    "    prediction, prob = predict(symbol[0])\n",
    "    if (prob > 0.8):\n",
    "        # print(\"Predicted as\", prediction,\n",
    "        #     \"With probability\", prob); showImage(symbol[0])\n",
    "        prediction = classification_mapping(prediction)\n",
    "        features.append((prediction, symbol[1], symbol[2]))\n",
    "showImage(io.imread(path,as_gray=False))\n",
    "cards = grouping(features)\n",
    "print(\"Cards are:\", cards)\n",
    "print(\"Total Number of Cards:\", len(cards))"
   ]
  },
  {
   "cell_type": "code",
   "execution_count": null,
   "metadata": {},
   "outputs": [],
   "source": []
  }
 ],
 "metadata": {
  "interpreter": {
   "hash": "55fd5ca179876acef9549041cbb1c15e8bec9319deb5ae4a3991fbbbce6be60f"
  },
  "kernelspec": {
   "display_name": "Python 3.9.6 64-bit",
   "language": "python",
   "name": "python3"
  },
  "language_info": {
   "codemirror_mode": {
    "name": "ipython",
    "version": 3
   },
   "file_extension": ".py",
   "mimetype": "text/x-python",
   "name": "python",
   "nbconvert_exporter": "python",
   "pygments_lexer": "ipython3",
   "version": "3.9.6"
  },
  "orig_nbformat": 4
 },
 "nbformat": 4,
 "nbformat_minor": 2
}
