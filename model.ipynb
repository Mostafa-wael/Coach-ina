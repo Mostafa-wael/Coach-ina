{
 "cells": [
  {
   "cell_type": "markdown",
   "metadata": {},
   "source": [
    "# Utilities"
   ]
  },
  {
   "cell_type": "code",
   "execution_count": 29,
   "metadata": {},
   "outputs": [],
   "source": [
    "from sklearn.neighbors import KNeighborsClassifier\n",
    "from skimage import transform\n",
    "from skimage.transform import rotate, AffineTransform,warp\n",
    "from skimage import util\n",
    "from skimage.filters import gaussian\n",
    "from sklearn import preprocessing\n",
    "import numpy as np\n",
    "\n",
    "\n",
    "\n",
    "import cv2\n",
    "%matplotlib inline\n",
    "import matplotlib\n",
    "import matplotlib.pyplot as plt\n"
   ]
  },
  {
   "cell_type": "code",
   "execution_count": 30,
   "metadata": {},
   "outputs": [],
   "source": [
    "def showImage(image):\n",
    "    plt.imshow(image, cmap = matplotlib.cm.binary, interpolation='nearest')\n",
    "    plt.axis('off')\n",
    "    plt.show()"
   ]
  },
  {
   "cell_type": "code",
   "execution_count": 31,
   "metadata": {},
   "outputs": [
    {
     "data": {
      "image/png": "[encoded data removed]",
      "text/plain": [
       "<Figure size 432x288 with 1 Axes>"
      ]
     },
     "metadata": {
      "needs_background": "light"
     },
     "output_type": "display_data"
    },
    {
     "data": {
      "image/png": "[encoded data removed]",
      "text/plain": [
       "<Figure size 432x288 with 1 Axes>"
      ]
     },
     "metadata": {
      "needs_background": "light"
     },
     "output_type": "display_data"
    },
    {
     "data": {
      "image/png": "[encoded data removed]",
      "text/plain": [
       "<Figure size 432x288 with 1 Axes>"
      ]
     },
     "metadata": {
      "needs_background": "light"
     },
     "output_type": "display_data"
    },
    {
     "data": {
      "image/png": "[encoded data removed]",
      "text/plain": [
       "<Figure size 432x288 with 1 Axes>"
      ]
     },
     "metadata": {
      "needs_background": "light"
     },
     "output_type": "display_data"
    }
   ],
   "source": [
    "\n",
    "image = cv2.imread(\"model/dataSet/trainData/7/7C0.jpg\", cv2.COLOR_BGR2GRAY)\n",
    "showImage(image)\n",
    "\n",
    "img = image\n",
    "\n",
    "# image = rotate(img, angle=-45,cval=1); \n",
    "# showImage(image)\n",
    "# image = rotate(img, angle=45,cval=1); \n",
    "# showImage(image)\n",
    "image = transform.warp(img, AffineTransform(shear=-0.4), order=1, preserve_range=True, mode='wrap');\n",
    "showImage(image)\n",
    "image = transform.warp(img, AffineTransform(shear=0.4), order=1, preserve_range=True, mode='wrap'); \n",
    "showImage(image)\n",
    "# #----------------------------------------------------------------\n",
    "image = img.copy();\n",
    "image[:, 0:5] = 0\n",
    "showImage(image)\n",
    "\n"
   ]
  },
  {
   "cell_type": "code",
   "execution_count": 62,
   "metadata": {},
   "outputs": [],
   "source": [
    "# Image Augmentation, referncee: https://www.codespeedy.com/image-augmentation-using-skimage-in-python/\n",
    "\n",
    "import random \n",
    "\n",
    "\n",
    "def augmentImage(img):\n",
    "    # original image\n",
    "    augmentedImages=[img.flatten()]\n",
    "    augmentedImages.append(img.flatten()) # add the image multiple times\n",
    "    augmentedImages.append(img.flatten()) # add the image multiple times\n",
    "    augmentedImages.append(img.flatten()) # add the image multiple times\n",
    "    # rotation by i\n",
    "    for i in range(1, 8):\n",
    "        randomNum = random.randint(-5,5)\n",
    "        image = rotate(img, angle=i*20 + randomNum, cval=1); augmentedImages.append(image.flatten())\n",
    "        image = rotate(img, angle=-i*20 + randomNum, cval=1); augmentedImages.append(image.flatten())\n",
    "    # Shearing\n",
    "    image = transform.warp(img, AffineTransform(shear=-0.4), order=1, preserve_range=True, mode='wrap'); augmentedImages.append(image.flatten())\n",
    "    image = transform.warp(img, AffineTransform(shear=0.4), order=1, preserve_range=True, mode='wrap'); augmentedImages.append(image.flatten())\n",
    "    # Cropping by 7\n",
    "    image = img.copy(); image[:, 23:] = 0; augmentedImages.append(image.flatten())\n",
    "    image = img.copy(); image[:, 0:7] = 0; augmentedImages.append(image.flatten())\n",
    "    image = img.copy(); image[0:7,:] = 0; augmentedImages.append(image.flatten())\n",
    "    image = img.copy(); image[33:, :] = 0; augmentedImages.append(image.flatten())\n",
    "    # Cropping by 10\n",
    "    image = img.copy(); image[:, 20:] = 0; augmentedImages.append(image.flatten())\n",
    "    image = img.copy(); image[:, 0:10] = 0; augmentedImages.append(image.flatten())\n",
    "    image = img.copy(); image[0:10,:] = 0; augmentedImages.append(image.flatten())\n",
    "    image = img.copy(); image[30:, :] = 0; augmentedImages.append(image.flatten())\n",
    "    # inverse\n",
    "    image = 1 - img.copy(); augmentedImages.append(image.flatten())\n",
    "\n",
    "    \n",
    "    return augmentedImages\n",
    "    \n",
    "    \n"
   ]
  },
  {
   "cell_type": "markdown",
   "metadata": {},
   "source": [
    "# Import and split the data"
   ]
  },
  {
   "cell_type": "code",
   "execution_count": 64,
   "metadata": {},
   "outputs": [
    {
     "name": "stdout",
     "output_type": "stream",
     "text": [
      "17\n",
      "Number of classes that have exceeded 100000 items is: 0 out of 17\n",
      "trainData Size: 124990 and trainLabels size: 124990\n"
     ]
    }
   ],
   "source": [
    "import os\n",
    "trainData = []\n",
    "trainLabels = []\n",
    "\n",
    "dire=\"model/DataSet/trainData\" \n",
    "\n",
    "classes = os.listdir(dire)\n",
    "print(len(classes))\n",
    "\n",
    "numClassesWithLimit = 0\n",
    "LIMIT = 100000 # to have the same number of items in all classes\n",
    "for innerDir in os.listdir(dire):\n",
    "    count = 0\n",
    "    for filename in os.listdir(dire+'/' +innerDir):\n",
    "        # read image\n",
    "        image = cv2.imread(dire+'/' + innerDir +'/' +filename, cv2.COLOR_BGR2GRAY)/255.0\n",
    "\n",
    "        # augmentImage\n",
    "        augmentedImages = augmentImage(image.copy())\n",
    "        count +=  len(augmentedImages)\n",
    "\n",
    "        # append images\n",
    "        trainData+=augmentedImages\n",
    "        trainLabels+=[innerDir] * len(augmentedImages)\n",
    "\n",
    "        # to break the inner loop if the number of items in the class exceeded the LIMIT\n",
    "        if (count >= LIMIT):\n",
    "            numClassesWithLimit+=1\n",
    "            print(\"Class\", innerDir , \"has\", count, \"items\")\n",
    "            break\n",
    "\n",
    "print(\"Number of classes that have exceeded\", LIMIT, \"items is:\", numClassesWithLimit, \"out of\", len(os.listdir(dire)))\n",
    "print(\"trainData Size:\", len(trainData), \"and trainLabels size:\", len(trainLabels))\n",
    "\n"
   ]
  },
  {
   "cell_type": "code",
   "execution_count": 65,
   "metadata": {},
   "outputs": [],
   "source": [
    "from sklearn.model_selection import train_test_split\n",
    "\n",
    "# split the data\n",
    "trainData, testData, trainLabels, testLabels = train_test_split(trainData, trainLabels, test_size = 0.01 , random_state=50)\n"
   ]
  },
  {
   "cell_type": "markdown",
   "metadata": {},
   "source": [
    "# Trainning"
   ]
  },
  {
   "cell_type": "code",
   "execution_count": 66,
   "metadata": {},
   "outputs": [
    {
     "data": {
      "text/plain": [
       "KNeighborsClassifier(n_jobs=-1, n_neighbors=17, weights='distance')"
      ]
     },
     "execution_count": 66,
     "metadata": {},
     "output_type": "execute_result"
    }
   ],
   "source": [
    "model_KNN = KNeighborsClassifier(n_neighbors=17, weights='distance',n_jobs=-1) \n",
    "model_KNN.fit(trainData, trainLabels)"
   ]
  },
  {
   "cell_type": "code",
   "execution_count": 36,
   "metadata": {},
   "outputs": [],
   "source": [
    "# from sklearn.svm import LinearSVC\n",
    "# from sklearn.pipeline import make_pipeline\n",
    "# from sklearn.preprocessing import StandardScaler\n",
    "\n",
    "# model_SVC = make_pipeline(StandardScaler(), LinearSVC(random_state=0, tol=1e-5, max_iter=1e5))\n",
    "# # model_SVC = svm.SVC(gamma=.001,C=100)\n",
    "# model_SVC.fit(trainData, trainLabels)"
   ]
  },
  {
   "cell_type": "markdown",
   "metadata": {},
   "source": [
    "# Save the model"
   ]
  },
  {
   "cell_type": "code",
   "execution_count": 67,
   "metadata": {},
   "outputs": [],
   "source": [
    "from joblib import dump, load\n",
    "# save the model\n",
    "# dump(model_SVC, 'SVC_model.joblib') \n",
    "dump(model_KNN, 'model/KNN_model.joblib') \n",
    "\n",
    "# load the model\n",
    "model = load('model/KNN_model.joblib')\n",
    "model_SVC = load('model/SVC_model.joblib')\n",
    "\n",
    "# model = model_KNN"
   ]
  },
  {
   "cell_type": "markdown",
   "metadata": {},
   "source": [
    "# Evaluate the model"
   ]
  },
  {
   "cell_type": "code",
   "execution_count": 75,
   "metadata": {},
   "outputs": [
    {
     "name": "stdout",
     "output_type": "stream",
     "text": [
      "KNN Model Accuarcy 0.9656\n"
     ]
    }
   ],
   "source": [
    "from sklearn.metrics import accuracy_score\n",
    "\n",
    "# KNN\n",
    "Labels_KNN_pred = model.predict(testData) \n",
    "print(\"KNN Model Accuarcy\", accuracy_score(testLabels, Labels_KNN_pred)) # validate the model"
   ]
  },
  {
   "cell_type": "code",
   "execution_count": 39,
   "metadata": {},
   "outputs": [],
   "source": [
    "# from sklearn.metrics import accuracy_score\n",
    "\n",
    "# # SVM\n",
    "# Labels_SVM_pred = model_SVC.predict(testData) # test -predict the test trainData-\n",
    "# print(\"SVM Model Accuarcy\", accuracy_score(testLabels, Labels_SVM_pred)) # validate the model"
   ]
  },
  {
   "cell_type": "markdown",
   "metadata": {},
   "source": [
    "# Random TestCases"
   ]
  },
  {
   "cell_type": "code",
   "execution_count": 76,
   "metadata": {},
   "outputs": [
    {
     "name": "stdout",
     "output_type": "stream",
     "text": [
      "Predicted 6 as 6 With probability 1.0\n",
      "Predicted spade as spade With probability 1.0\n",
      "Predicted 3 as 3 With probability 1.0\n",
      "Predicted diamond as diamond With probability 1.0\n",
      "Predicted heart as heart With probability 1.0\n",
      "Predicted 7 as 7 With probability 1.0\n",
      "Predicted diamond as diamond With probability 1.0\n",
      "Predicted 10 as 10 With probability 0.9359850338103388\n",
      "Predicted 7 as 7 With probability 1.0\n",
      "Predicted spade as heart With probability 0.3933753255223659\n",
      "Predicted 7 as 7 With probability 1.0\n",
      "Predicted diamond as diamond With probability 1.0\n",
      "Predicted 10 as 10 With probability 1.0\n",
      "Predicted 10 as 10 With probability 1.0\n",
      "Predicted heart as heart With probability 1.0\n",
      "Predicted A as A With probability 1.0\n",
      "Predicted heart as heart With probability 0.9999998749774722\n",
      "Predicted 9 as 9 With probability 1.0\n",
      "Predicted heart as heart With probability 1.0\n",
      "Predicted club as club With probability 1.0\n",
      "Predicted 10 as 10 With probability 1.0\n",
      "Predicted 2 as 2 With probability 1.0\n",
      "Predicted spade as spade With probability 1.0\n",
      "Predicted 9 as 9 With probability 0.8503059740126047\n",
      "Predicted diamond as diamond With probability 1.0\n",
      "Predicted diamond as diamond With probability 1.0\n",
      "Predicted Q as Q With probability 1.0\n",
      "Predicted heart as heart With probability 1.0\n",
      "Predicted club as club With probability 1.0\n",
      "Predicted club as club With probability 1.0\n",
      "Predicted diamond as diamond With probability 1.0\n",
      "Predicted 10 as 10 With probability 1.0\n",
      "Predicted spade as spade With probability 1.0\n",
      "Predicted heart as heart With probability 1.0\n",
      "Predicted 4 as 4 With probability 1.0\n",
      "Predicted diamond as diamond With probability 1.0\n",
      "Predicted diamond as diamond With probability 1.0\n",
      "Predicted J as J With probability 1.0\n",
      "Predicted heart as heart With probability 1.0\n",
      "Predicted 10 as 10 With probability 1.0\n",
      "Predicted diamond as diamond With probability 1.0\n",
      "Predicted 4 as 4 With probability 1.0\n",
      "Predicted 10 as 10 With probability 1.0\n",
      "Predicted spade as heart With probability 0.3933753255223659\n",
      "Predicted heart as heart With probability 1.0\n",
      "Predicted A as A With probability 1.0\n",
      "Predicted 4 as 4 With probability 1.0\n",
      "Predicted diamond as diamond With probability 1.0\n",
      "Predicted club as club With probability 1.0\n",
      "Predicted A as A With probability 0.8296391020198685\n",
      "Predicted 10 as 10 With probability 1.0\n",
      "Predicted 9 as 9 With probability 1.0\n",
      "Predicted diamond as diamond With probability 1.0\n",
      "Predicted 8 as 8 With probability 0.3704732287834318\n",
      "Predicted diamond as diamond With probability 1.0\n",
      "Predicted club as club With probability 1.0\n",
      "Predicted 2 as 2 With probability 1.0\n",
      "Predicted club as club With probability 1.0\n",
      "Predicted Q as Q With probability 1.0\n",
      "Predicted 2 as 2 With probability 1.0\n",
      "Predicted 3 as 3 With probability 1.0\n",
      "Predicted diamond as diamond With probability 1.0\n",
      "Predicted 2 as 2 With probability 1.0\n",
      "Predicted 10 as 10 With probability 1.0\n",
      "Predicted K as K With probability 1.0\n",
      "Predicted 8 as 8 With probability 1.0\n",
      "Predicted 2 as 2 With probability 1.0\n",
      "Predicted club as club With probability 1.0\n",
      "Predicted heart as heart With probability 1.0\n",
      "Predicted 10 as 10 With probability 1.0\n",
      "Predicted 4 as 4 With probability 1.0\n",
      "Predicted diamond as diamond With probability 1.0\n",
      "Predicted A as A With probability 1.0\n",
      "Predicted spade as spade With probability 1.0\n",
      "Predicted 3 as 3 With probability 1.0\n",
      "Predicted A as A With probability 1.0\n",
      "Predicted heart as heart With probability 1.0\n",
      "Predicted 5 as 5 With probability 1.0\n",
      "Predicted 6 as 6 With probability 1.0\n",
      "Predicted 2 as 2 With probability 1.0\n",
      "Predicted diamond as diamond With probability 1.0\n",
      "Predicted 10 as 10 With probability 1.0\n",
      "Predicted K as K With probability 1.0\n",
      "Predicted 10 as 10 With probability 1.0\n",
      "Predicted heart as heart With probability 1.0\n",
      "Predicted 9 as 9 With probability 1.0\n",
      "Predicted 9 as 9 With probability 1.0\n",
      "Predicted spade as spade With probability 1.0\n",
      "Predicted 4 as 4 With probability 1.0\n",
      "Predicted spade as spade With probability 1.0\n",
      "Predicted heart as heart With probability 1.0\n",
      "Predicted 10 as 10 With probability 1.0\n",
      "Predicted 10 as 10 With probability 1.0\n",
      "Predicted diamond as diamond With probability 1.0\n",
      "Predicted 7 as 7 With probability 1.0\n",
      "Predicted 6 as 6 With probability 0.8926614708328207\n",
      "Predicted heart as heart With probability 1.0\n",
      "Predicted spade as spade With probability 1.0\n",
      "Predicted 3 as 3 With probability 1.0\n",
      "Predicted 10 as 10 With probability 1.0\n",
      "98 Passed out of 100\n"
     ]
    }
   ],
   "source": [
    "import random \n",
    "\n",
    "count  = 0\n",
    "LIMIT = 100\n",
    "for i in range(LIMIT):\n",
    "    randomIndex = random.randint(0,len(testLabels))\n",
    "\n",
    "    # prediction\n",
    "    prediction = model.predict([testData[randomIndex]])\n",
    "    probabilities = model.predict_proba([testData[randomIndex]])[0]\n",
    "    classIndex =  np.where(model.classes_ == prediction)[0]\n",
    "    print(\"Predicted\", testLabels[randomIndex], \"as\", prediction[0],\n",
    "         \"With probability\", probabilities[classIndex][0])\n",
    "    #\n",
    "    if (testLabels[randomIndex] == model.predict([testData[randomIndex]])[0]):\n",
    "        count += 1\n",
    "print(count, \"Passed out of\", LIMIT)\n"
   ]
  },
  {
   "cell_type": "markdown",
   "metadata": {},
   "source": [
    "# Test Data"
   ]
  },
  {
   "cell_type": "code",
   "execution_count": 42,
   "metadata": {},
   "outputs": [
    {
     "name": "stdout",
     "output_type": "stream",
     "text": [
      "Number of test images 138\n"
     ]
    },
    {
     "ename": "ValueError",
     "evalue": "X has 900 features, but KNeighborsClassifier is expecting 1200 features as input.",
     "output_type": "error",
     "traceback": [
      "\u001b[1;31m---------------------------------------------------------------------------\u001b[0m",
      "\u001b[1;31mValueError\u001b[0m                                Traceback (most recent call last)",
      "\u001b[1;32m~\\AppData\\Local\\Temp/ipykernel_14200/1915409198.py\u001b[0m in \u001b[0;36m<module>\u001b[1;34m\u001b[0m\n\u001b[0;32m      6\u001b[0m     \u001b[0mimage\u001b[0m \u001b[1;33m=\u001b[0m \u001b[0mcv2\u001b[0m\u001b[1;33m.\u001b[0m\u001b[0mimread\u001b[0m\u001b[1;33m(\u001b[0m\u001b[0mdire\u001b[0m\u001b[1;33m+\u001b[0m\u001b[0mfilename\u001b[0m\u001b[1;33m,\u001b[0m \u001b[0mcv2\u001b[0m\u001b[1;33m.\u001b[0m\u001b[0mCOLOR_BGR2GRAY\u001b[0m\u001b[1;33m)\u001b[0m\u001b[1;33m/\u001b[0m\u001b[1;36m255.0\u001b[0m\u001b[1;33m\u001b[0m\u001b[1;33m\u001b[0m\u001b[0m\n\u001b[0;32m      7\u001b[0m     \u001b[1;31m# print(image.shape)\u001b[0m\u001b[1;33m\u001b[0m\u001b[1;33m\u001b[0m\u001b[1;33m\u001b[0m\u001b[0m\n\u001b[1;32m----> 8\u001b[1;33m     \u001b[0mprediction\u001b[0m \u001b[1;33m=\u001b[0m \u001b[0mmodel\u001b[0m\u001b[1;33m.\u001b[0m\u001b[0mpredict\u001b[0m\u001b[1;33m(\u001b[0m\u001b[1;33m[\u001b[0m\u001b[0mimage\u001b[0m\u001b[1;33m.\u001b[0m\u001b[0mflatten\u001b[0m\u001b[1;33m(\u001b[0m\u001b[1;33m)\u001b[0m\u001b[1;33m]\u001b[0m\u001b[1;33m)\u001b[0m\u001b[1;33m\u001b[0m\u001b[1;33m\u001b[0m\u001b[0m\n\u001b[0m\u001b[0;32m      9\u001b[0m     \u001b[0mprobabilities\u001b[0m \u001b[1;33m=\u001b[0m \u001b[0mmodel\u001b[0m\u001b[1;33m.\u001b[0m\u001b[0mpredict_proba\u001b[0m\u001b[1;33m(\u001b[0m\u001b[1;33m[\u001b[0m\u001b[0mimage\u001b[0m\u001b[1;33m.\u001b[0m\u001b[0mflatten\u001b[0m\u001b[1;33m(\u001b[0m\u001b[1;33m)\u001b[0m\u001b[1;33m]\u001b[0m\u001b[1;33m)\u001b[0m\u001b[1;33m[\u001b[0m\u001b[1;36m0\u001b[0m\u001b[1;33m]\u001b[0m\u001b[1;33m\u001b[0m\u001b[1;33m\u001b[0m\u001b[0m\n\u001b[0;32m     10\u001b[0m     \u001b[0mclassIndex\u001b[0m \u001b[1;33m=\u001b[0m  \u001b[0mnp\u001b[0m\u001b[1;33m.\u001b[0m\u001b[0mwhere\u001b[0m\u001b[1;33m(\u001b[0m\u001b[0mmodel\u001b[0m\u001b[1;33m.\u001b[0m\u001b[0mclasses_\u001b[0m \u001b[1;33m==\u001b[0m \u001b[0mprediction\u001b[0m\u001b[1;33m)\u001b[0m\u001b[1;33m[\u001b[0m\u001b[1;36m0\u001b[0m\u001b[1;33m]\u001b[0m\u001b[1;33m\u001b[0m\u001b[1;33m\u001b[0m\u001b[0m\n",
      "\u001b[1;32m~\\AppData\\Local\\Programs\\Python\\Python39\\lib\\site-packages\\sklearn\\neighbors\\_classification.py\u001b[0m in \u001b[0;36mpredict\u001b[1;34m(self, X)\u001b[0m\n\u001b[0;32m    212\u001b[0m             \u001b[0mClass\u001b[0m \u001b[0mlabels\u001b[0m \u001b[1;32mfor\u001b[0m \u001b[0meach\u001b[0m \u001b[0mdata\u001b[0m \u001b[0msample\u001b[0m\u001b[1;33m.\u001b[0m\u001b[1;33m\u001b[0m\u001b[1;33m\u001b[0m\u001b[0m\n\u001b[0;32m    213\u001b[0m         \"\"\"\n\u001b[1;32m--> 214\u001b[1;33m         \u001b[0mneigh_dist\u001b[0m\u001b[1;33m,\u001b[0m \u001b[0mneigh_ind\u001b[0m \u001b[1;33m=\u001b[0m \u001b[0mself\u001b[0m\u001b[1;33m.\u001b[0m\u001b[0mkneighbors\u001b[0m\u001b[1;33m(\u001b[0m\u001b[0mX\u001b[0m\u001b[1;33m)\u001b[0m\u001b[1;33m\u001b[0m\u001b[1;33m\u001b[0m\u001b[0m\n\u001b[0m\u001b[0;32m    215\u001b[0m         \u001b[0mclasses_\u001b[0m \u001b[1;33m=\u001b[0m \u001b[0mself\u001b[0m\u001b[1;33m.\u001b[0m\u001b[0mclasses_\u001b[0m\u001b[1;33m\u001b[0m\u001b[1;33m\u001b[0m\u001b[0m\n\u001b[0;32m    216\u001b[0m         \u001b[0m_y\u001b[0m \u001b[1;33m=\u001b[0m \u001b[0mself\u001b[0m\u001b[1;33m.\u001b[0m\u001b[0m_y\u001b[0m\u001b[1;33m\u001b[0m\u001b[1;33m\u001b[0m\u001b[0m\n",
      "\u001b[1;32m~\\AppData\\Local\\Programs\\Python\\Python39\\lib\\site-packages\\sklearn\\neighbors\\_base.py\u001b[0m in \u001b[0;36mkneighbors\u001b[1;34m(self, X, n_neighbors, return_distance)\u001b[0m\n\u001b[0;32m    715\u001b[0m                 \u001b[0mX\u001b[0m \u001b[1;33m=\u001b[0m \u001b[0m_check_precomputed\u001b[0m\u001b[1;33m(\u001b[0m\u001b[0mX\u001b[0m\u001b[1;33m)\u001b[0m\u001b[1;33m\u001b[0m\u001b[1;33m\u001b[0m\u001b[0m\n\u001b[0;32m    716\u001b[0m             \u001b[1;32melse\u001b[0m\u001b[1;33m:\u001b[0m\u001b[1;33m\u001b[0m\u001b[1;33m\u001b[0m\u001b[0m\n\u001b[1;32m--> 717\u001b[1;33m                 \u001b[0mX\u001b[0m \u001b[1;33m=\u001b[0m \u001b[0mself\u001b[0m\u001b[1;33m.\u001b[0m\u001b[0m_validate_data\u001b[0m\u001b[1;33m(\u001b[0m\u001b[0mX\u001b[0m\u001b[1;33m,\u001b[0m \u001b[0maccept_sparse\u001b[0m\u001b[1;33m=\u001b[0m\u001b[1;34m\"csr\"\u001b[0m\u001b[1;33m,\u001b[0m \u001b[0mreset\u001b[0m\u001b[1;33m=\u001b[0m\u001b[1;32mFalse\u001b[0m\u001b[1;33m)\u001b[0m\u001b[1;33m\u001b[0m\u001b[1;33m\u001b[0m\u001b[0m\n\u001b[0m\u001b[0;32m    718\u001b[0m         \u001b[1;32melse\u001b[0m\u001b[1;33m:\u001b[0m\u001b[1;33m\u001b[0m\u001b[1;33m\u001b[0m\u001b[0m\n\u001b[0;32m    719\u001b[0m             \u001b[0mquery_is_train\u001b[0m \u001b[1;33m=\u001b[0m \u001b[1;32mTrue\u001b[0m\u001b[1;33m\u001b[0m\u001b[1;33m\u001b[0m\u001b[0m\n",
      "\u001b[1;32m~\\AppData\\Local\\Programs\\Python\\Python39\\lib\\site-packages\\sklearn\\base.py\u001b[0m in \u001b[0;36m_validate_data\u001b[1;34m(self, X, y, reset, validate_separately, **check_params)\u001b[0m\n\u001b[0;32m    583\u001b[0m \u001b[1;33m\u001b[0m\u001b[0m\n\u001b[0;32m    584\u001b[0m         \u001b[1;32mif\u001b[0m \u001b[1;32mnot\u001b[0m \u001b[0mno_val_X\u001b[0m \u001b[1;32mand\u001b[0m \u001b[0mcheck_params\u001b[0m\u001b[1;33m.\u001b[0m\u001b[0mget\u001b[0m\u001b[1;33m(\u001b[0m\u001b[1;34m\"ensure_2d\"\u001b[0m\u001b[1;33m,\u001b[0m \u001b[1;32mTrue\u001b[0m\u001b[1;33m)\u001b[0m\u001b[1;33m:\u001b[0m\u001b[1;33m\u001b[0m\u001b[1;33m\u001b[0m\u001b[0m\n\u001b[1;32m--> 585\u001b[1;33m             \u001b[0mself\u001b[0m\u001b[1;33m.\u001b[0m\u001b[0m_check_n_features\u001b[0m\u001b[1;33m(\u001b[0m\u001b[0mX\u001b[0m\u001b[1;33m,\u001b[0m \u001b[0mreset\u001b[0m\u001b[1;33m=\u001b[0m\u001b[0mreset\u001b[0m\u001b[1;33m)\u001b[0m\u001b[1;33m\u001b[0m\u001b[1;33m\u001b[0m\u001b[0m\n\u001b[0m\u001b[0;32m    586\u001b[0m \u001b[1;33m\u001b[0m\u001b[0m\n\u001b[0;32m    587\u001b[0m         \u001b[1;32mreturn\u001b[0m \u001b[0mout\u001b[0m\u001b[1;33m\u001b[0m\u001b[1;33m\u001b[0m\u001b[0m\n",
      "\u001b[1;32m~\\AppData\\Local\\Programs\\Python\\Python39\\lib\\site-packages\\sklearn\\base.py\u001b[0m in \u001b[0;36m_check_n_features\u001b[1;34m(self, X, reset)\u001b[0m\n\u001b[0;32m    398\u001b[0m \u001b[1;33m\u001b[0m\u001b[0m\n\u001b[0;32m    399\u001b[0m         \u001b[1;32mif\u001b[0m \u001b[0mn_features\u001b[0m \u001b[1;33m!=\u001b[0m \u001b[0mself\u001b[0m\u001b[1;33m.\u001b[0m\u001b[0mn_features_in_\u001b[0m\u001b[1;33m:\u001b[0m\u001b[1;33m\u001b[0m\u001b[1;33m\u001b[0m\u001b[0m\n\u001b[1;32m--> 400\u001b[1;33m             raise ValueError(\n\u001b[0m\u001b[0;32m    401\u001b[0m                 \u001b[1;34mf\"X has {n_features} features, but {self.__class__.__name__} \"\u001b[0m\u001b[1;33m\u001b[0m\u001b[1;33m\u001b[0m\u001b[0m\n\u001b[0;32m    402\u001b[0m                 \u001b[1;34mf\"is expecting {self.n_features_in_} features as input.\"\u001b[0m\u001b[1;33m\u001b[0m\u001b[1;33m\u001b[0m\u001b[0m\n",
      "\u001b[1;31mValueError\u001b[0m: X has 900 features, but KNeighborsClassifier is expecting 1200 features as input."
     ]
    }
   ],
   "source": [
    "import os\n",
    "\n",
    "dire=\"Grouping/imgs/\"\n",
    "print(\"Number of test images\", len(os.listdir(dire)))\n",
    "for filename in os.listdir(dire):\n",
    "    image = cv2.imread(dire+filename, cv2.COLOR_BGR2GRAY)/255.0\n",
    "    # print(image.shape)\n",
    "    prediction = model.predict([image.flatten()])\n",
    "    probabilities = model.predict_proba([image.flatten()])[0]\n",
    "    classIndex =  np.where(model.classes_ == prediction)[0]\n",
    "    if (probabilities[classIndex] < 0.8):\n",
    "        print(\"Failed to detect the symbol\")\n",
    "    else:\n",
    "        print(\"Predicted as\", prediction[0],\n",
    "            \"With probability\", probabilities[classIndex])\n",
    "    showImage(image)"
   ]
  },
  {
   "cell_type": "code",
   "execution_count": 88,
   "metadata": {},
   "outputs": [
    {
     "data": {
      "image/png": "[encoded data removed]",
      "text/plain": [
       "<Figure size 432x288 with 1 Axes>"
      ]
     },
     "metadata": {
      "needs_background": "light"
     },
     "output_type": "display_data"
    },
    {
     "name": "stdout",
     "output_type": "stream",
     "text": [
      "Cards are: {('K', 'C'), ('10', 'H'), ('A', 'C'), ('Q', 'H'), ('J', 'D')}\n",
      "Total Number of Cards: 5\n"
     ]
    }
   ],
   "source": [
    "import skimage.io as io\n",
    "import skimage.io as io\n",
    "import utilities\n",
    "from utilities import getSymboles\n",
    "# from utilities import getGreyImage\n",
    "from utilities import predict\n",
    "from utilities import classification_mapping\n",
    "from utilities import grouping\n",
    "from utilities import ApplyOnImage\n",
    "\n",
    "import os\n",
    "import sys\n",
    "from matplotlib import pyplot as plt\n",
    "from skimage.color import rgb2gray\n",
    "from skimage import data, io, filters, feature, measure, transform, morphology\n",
    "import matplotlib.pylab as plt\n",
    "import numpy as np\n",
    "import skimage\n",
    "import skimage.exposure\n",
    "import skimage.feature\n",
    "import skimage.filters\n",
    "import skimage.io as io\n",
    "import skimage.morphology\n",
    "import skimage.transform\n",
    "from joblib import load\n",
    "from skimage import transform, util\n",
    "from skimage.filters import gaussian, threshold_otsu\n",
    "from skimage.transform import AffineTransform, rotate, warp\n",
    "from sklearn import preprocessing\n",
    "from sklearn.neighbors import KNeighborsClassifier\n",
    "import cv2\n",
    "\n",
    "\n",
    "def predict(image, modelPath='model/KNN_model.joblib'):\n",
    "    # load the model\n",
    "    model = load(modelPath)\n",
    "    prediction =  model.predict([image.flatten()])[0]\n",
    "    probabilities = model.predict_proba([image.flatten()])[0]\n",
    "    classIndex =  np.where(model.classes_ == prediction)[0]\n",
    "\n",
    "    return prediction, probabilities[classIndex]\n",
    "\n",
    "def getGreyImage(image):\n",
    "    image = image.astype(float)\n",
    "    R = image[:, :, 0]\n",
    "    G = image[:, :, 1]\n",
    "    B = image[:, :, 2]\n",
    "    mask = (R - G > 70) & (R - B > 70)\n",
    "    R[mask] = 0\n",
    "    return rgb2gray(image).astype(float)\n",
    "\n",
    "\n",
    "path=\"Grouping/cards3.jpeg\"\n",
    "image = io.imread(path)\n",
    "# io.imshow(image)\n",
    "# io.show()\n",
    "if len(image.shape) == 2:\n",
    "    greyImage = image\n",
    "else:\n",
    "    greyImage = getGreyImage(image)/255.0\n",
    "\n",
    "symbolesList = getSymboles(greyImage)\n",
    "features = []\n",
    "for symbol in symbolesList:\n",
    "    prediction, prob = predict(symbol[0])\n",
    "    if (prob > 0.6):\n",
    "        # print(\"Predicted as\", prediction,\n",
    "        #     \"With probability\", prob); showImage(symbol[0])\n",
    "        prediction = classification_mapping(prediction)\n",
    "        features.append((prediction, symbol[1], symbol[2]))\n",
    "showImage(io.imread(path,as_gray=False))\n",
    "cards = grouping(features)\n",
    "print(\"Cards are:\", cards)\n",
    "print(\"Total Number of Cards:\", len(cards))"
   ]
  },
  {
   "cell_type": "code",
   "execution_count": null,
   "metadata": {},
   "outputs": [],
   "source": []
  }
 ],
 "metadata": {
  "interpreter": {
   "hash": "55fd5ca179876acef9549041cbb1c15e8bec9319deb5ae4a3991fbbbce6be60f"
  },
  "kernelspec": {
   "display_name": "Python 3.9.6 64-bit",
   "language": "python",
   "name": "python3"
  },
  "language_info": {
   "codemirror_mode": {
    "name": "ipython",
    "version": 3
   },
   "file_extension": ".py",
   "mimetype": "text/x-python",
   "name": "python",
   "nbconvert_exporter": "python",
   "pygments_lexer": "ipython3",
   "version": "3.9.6"
  },
  "orig_nbformat": 4
 },
 "nbformat": 4,
 "nbformat_minor": 2
}
