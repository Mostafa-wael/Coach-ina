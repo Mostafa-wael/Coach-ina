{
 "cells": [
  {
   "cell_type": "markdown",
   "metadata": {},
   "source": [
    "# Utilities"
   ]
  },
  {
   "cell_type": "code",
   "execution_count": 160,
   "metadata": {},
   "outputs": [],
   "source": [
    "from sklearn.neighbors import KNeighborsClassifier\n",
    "from sklearn import svm\n",
    "import cv2\n",
    "%matplotlib inline\n",
    "import matplotlib\n",
    "import matplotlib.pyplot as plt\n"
   ]
  },
  {
   "cell_type": "code",
   "execution_count": 161,
   "metadata": {},
   "outputs": [],
   "source": [
    "def showImage(image):\n",
    "    plt.imshow(image, cmap = matplotlib.cm.binary, interpolation='nearest')\n",
    "    plt.axis('off')"
   ]
  },
  {
   "cell_type": "code",
   "execution_count": 162,
   "metadata": {},
   "outputs": [
    {
     "data": {
      "image/png": "[encoded data removed]",
      "text/plain": [
       "<Figure size 432x288 with 1 Axes>"
      ]
     },
     "metadata": {
      "needs_background": "light"
     },
     "output_type": "display_data"
    }
   ],
   "source": [
    "\n",
    "image = cv2.imread(\"DataSet/trainData/club/2C0.jpg\", cv2.IMREAD_COLOR)\n",
    "showImage(image)"
   ]
  },
  {
   "cell_type": "markdown",
   "metadata": {},
   "source": [
    "# Import and prepare the trainData"
   ]
  },
  {
   "cell_type": "code",
   "execution_count": 163,
   "metadata": {},
   "outputs": [
    {
     "name": "stdout",
     "output_type": "stream",
     "text": [
      "['10', '2', '3', '4', '5', '6', '7', '8', '9', 'A', 'club', 'diamond', 'heart', 'J', 'K', 'Q', 'spade']\n",
      "trainData Size: 4015 and trainLabels size: 4015\n"
     ]
    }
   ],
   "source": [
    "import os\n",
    "trainData = []\n",
    "trainLabels = []\n",
    "\n",
    "dire=\"DataSet/trainData\" \n",
    "\n",
    "print(os.listdir(dire))\n",
    "\n",
    "for innerDir in os.listdir(dire):\n",
    "    for filename in os.listdir(dire+'/' +innerDir):\n",
    "        # print(dire+'/' + innerDir +'/' +filename)\n",
    "        trainData.append(cv2.imread(dire+'/' + innerDir +'/' +filename, cv2.COLOR_BGR2GRAY).flatten())\n",
    "        trainLabels.append(innerDir)\n",
    "\n",
    "\n",
    "print(\"trainData Size:\", len(trainData), \"and trainLabels size:\", len(trainLabels))\n",
    "\n"
   ]
  },
  {
   "cell_type": "code",
   "execution_count": 164,
   "metadata": {},
   "outputs": [],
   "source": [
    "from sklearn.preprocessing import StandardScaler\n",
    "\n",
    "scaler = StandardScaler()\n",
    "trainData = scaler.fit_transform(trainData)"
   ]
  },
  {
   "cell_type": "markdown",
   "metadata": {},
   "source": [
    "# Trainning"
   ]
  },
  {
   "cell_type": "code",
   "execution_count": 176,
   "metadata": {},
   "outputs": [
    {
     "data": {
      "text/plain": [
       "SVC(probability=True)"
      ]
     },
     "execution_count": 176,
     "metadata": {},
     "output_type": "execute_result"
    }
   ],
   "source": [
    "model_KNN = KNeighborsClassifier(n_neighbors=17, weights='distance',n_jobs=-1) # TODO: tune hyper parameters\n",
    "model_KNN.fit(trainData, trainLabels)\n",
    "\n",
    "model_SVC = svm.SVC(kernel='rbf', probability=True)\n",
    "model_SVC.fit(trainData, trainLabels)"
   ]
  },
  {
   "cell_type": "markdown",
   "metadata": {},
   "source": [
    "# Evaluate the model"
   ]
  },
  {
   "cell_type": "code",
   "execution_count": 166,
   "metadata": {},
   "outputs": [
    {
     "name": "stdout",
     "output_type": "stream",
     "text": [
      "KNN Model Accuarcy 1.0\n"
     ]
    }
   ],
   "source": [
    "from sklearn.metrics import accuracy_score\n",
    "\n",
    "# KNN\n",
    "trainLabels_knn_pred = model_KNN.predict(trainData) \n",
    "print(\"KNN Model Accuarcy\", accuracy_score(trainLabels, trainLabels_knn_pred)) # validate the model\n"
   ]
  },
  {
   "cell_type": "code",
   "execution_count": 177,
   "metadata": {},
   "outputs": [
    {
     "name": "stdout",
     "output_type": "stream",
     "text": [
      "SVC Model Accuarcy 0.999252801992528\n"
     ]
    }
   ],
   "source": [
    "from sklearn.metrics import accuracy_score\n",
    "\n",
    "# SVM\n",
    "trainLabels_knn_pred = model_SVC.predict(trainData) # test -predict the test trainData-\n",
    "print(\"SVC Model Accuarcy\", accuracy_score(trainLabels, trainLabels_knn_pred)) # validate the model"
   ]
  },
  {
   "cell_type": "markdown",
   "metadata": {},
   "source": [
    "# Save the model"
   ]
  },
  {
   "cell_type": "code",
   "execution_count": 178,
   "metadata": {},
   "outputs": [
    {
     "data": {
      "text/plain": [
       "['filename.joblib']"
      ]
     },
     "execution_count": 178,
     "metadata": {},
     "output_type": "execute_result"
    }
   ],
   "source": [
    "from joblib import dump, load\n",
    "dump(model_SVC, 'filename.joblib') "
   ]
  },
  {
   "cell_type": "code",
   "execution_count": 179,
   "metadata": {},
   "outputs": [],
   "source": [
    "model = load('model.joblib')"
   ]
  },
  {
   "cell_type": "markdown",
   "metadata": {},
   "source": [
    "# Random TestCase"
   ]
  },
  {
   "cell_type": "code",
   "execution_count": 182,
   "metadata": {},
   "outputs": [
    {
     "name": "stdout",
     "output_type": "stream",
     "text": [
      "Predicted 8 as ['8']\n",
      "With confidence [[0.00799916 0.02984578 0.00824556 0.0038384  0.06120437 0.18903531\n",
      "  0.00491797 0.59868603 0.03199112 0.02351394 0.01084406 0.01919936\n",
      "  0.00325843 0.00112485 0.00484    0.00083155 0.00062411]]\n"
     ]
    }
   ],
   "source": [
    "import random \n",
    "randomIndex = random.randint(0,len(trainLabels))\n",
    "\n",
    "\n",
    "print(\"Predicted\", trainLabels[randomIndex], \"as\", model.predict([trainData[randomIndex]]))\n",
    "\n",
    "print(\"With confidence\", model.predict_proba([trainData[randomIndex]]))\n"
   ]
  },
  {
   "cell_type": "code",
   "execution_count": null,
   "metadata": {},
   "outputs": [],
   "source": []
  }
 ],
 "metadata": {
  "interpreter": {
   "hash": "55fd5ca179876acef9549041cbb1c15e8bec9319deb5ae4a3991fbbbce6be60f"
  },
  "kernelspec": {
   "display_name": "Python 3.9.6 64-bit",
   "language": "python",
   "name": "python3"
  },
  "language_info": {
   "codemirror_mode": {
    "name": "ipython",
    "version": 3
   },
   "file_extension": ".py",
   "mimetype": "text/x-python",
   "name": "python",
   "nbconvert_exporter": "python",
   "pygments_lexer": "ipython3",
   "version": "3.9.6"
  },
  "orig_nbformat": 4
 },
 "nbformat": 4,
 "nbformat_minor": 2
}
