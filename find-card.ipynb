{
 "cells": [
  {
   "cell_type": "markdown",
   "metadata": {},
   "source": [
    "### Libraries "
   ]
  },
  {
   "cell_type": "code",
   "execution_count": 1,
   "metadata": {
    "execution": {
     "iopub.execute_input": "2022-01-03T07:07:33.725616Z",
     "iopub.status.busy": "2022-01-03T07:07:33.724939Z",
     "iopub.status.idle": "2022-01-03T07:07:33.742905Z",
     "shell.execute_reply": "2022-01-03T07:07:33.741798Z",
     "shell.execute_reply.started": "2022-01-03T07:07:33.725564Z"
    }
   },
   "outputs": [],
   "source": [
    "#initial step\n",
    "from skimage import data, io, filters, feature, measure, transform, morphology\n",
    "from skimage.color import rgb2gray\n",
    "from matplotlib import pyplot as plt\n",
    "import numpy as np\n",
    "import cv2\n",
    "import os"
   ]
  },
  {
   "cell_type": "markdown",
   "metadata": {},
   "source": [
    "### Constants"
   ]
  },
  {
   "cell_type": "code",
   "execution_count": 2,
   "metadata": {},
   "outputs": [],
   "source": [
    "MAX_ANLGE=160\n",
    "MIN_ANGLE=20\n",
    "\n",
    "MAX_AREA=0\n",
    "MIN_AREA=0\n"
   ]
  },
  {
   "cell_type": "markdown",
   "metadata": {},
   "source": [
    "### Utilities"
   ]
  },
  {
   "cell_type": "code",
   "execution_count": 3,
   "metadata": {
    "execution": {
     "iopub.execute_input": "2022-01-03T07:07:33.716319Z",
     "iopub.status.busy": "2022-01-03T07:07:33.715604Z",
     "iopub.status.idle": "2022-01-03T07:07:33.723177Z",
     "shell.execute_reply": "2022-01-03T07:07:33.722346Z",
     "shell.execute_reply.started": "2022-01-03T07:07:33.716275Z"
    }
   },
   "outputs": [],
   "source": [
    "# Show the figures / plots inside the notebook\n",
    "# instead of io.imshow(gaussedImg) and plt.show() each time\n",
    "def show_images(images,titles=None):\n",
    "    #This function is used to show image(s) with titles by sending an array of images and an array of associated titles.\n",
    "    # images[0] will be drawn with the title titles[0] if exists\n",
    "    # You aren't required to understand this function, use it as-is.\n",
    "    n_ims = len(images)\n",
    "    if titles is None: titles = ['(%d)' % i for i in range(1,n_ims + 1)]\n",
    "    fig = plt.figure()\n",
    "    n = 1\n",
    "    for image,title in zip(images,titles):\n",
    "        a = fig.add_subplot(1,n_ims,n)\n",
    "        if image.ndim == 2: \n",
    "            plt.gray()\n",
    "        plt.imshow(image)\n",
    "        a.set_title(title)\n",
    "        n += 1\n",
    "    fig.set_size_inches(np.array(fig.get_size_inches()) * n_ims)\n",
    "    plt.show() \n",
    "\n",
    "#calculate the distance between two points\n",
    "def CalcDist(p1,p2):\n",
    "    p1=np.copy(p1)\n",
    "    p2=np.copy(p2)\n",
    "    dist=np.sqrt((((p1-p2)**2).sum()))\n",
    "    return dist\n",
    "\n",
    "#calculate the perimeter of a contour\n",
    "def CalcPerimeter(contour):\n",
    "    ret=0\n",
    "    prev=contour[-1]\n",
    "    for cur in contour:\n",
    "        ret+=CalcDist(cur,prev)\n",
    "        prev=cur\n",
    "    return ret\n",
    "\n",
    "#caculate angle of three points using law of cosines\n",
    "#arccos((P12^2 + P13^2 - P23^2) / (2 * P12 * P13))\n",
    "def CalcAngle(points):\n",
    "    p12=CalcDist(points[0],points[1])\n",
    "    p13=CalcDist(points[2],points[1])\n",
    "    p23=CalcDist(points[0],points[2])\n",
    "\n",
    "    angle=np.arccos((p12**2+p13**2-p23**2)/(2*p12*p13))\n",
    "    return angle*180/np.arccos(-1)\n",
    "\n",
    "#caculate Area a polygon using Shoelace formula\n",
    "def CalcArea(x,y):\n",
    "    area=0.5*np.abs(np.dot(x,np.roll(y,1))-np.dot(y,np.roll(x,1)))\n",
    "    return area\n",
    "\n"
   ]
  },
  {
   "cell_type": "markdown",
   "metadata": {},
   "source": [
    "### Preprocessing Step"
   ]
  },
  {
   "cell_type": "code",
   "execution_count": 4,
   "metadata": {
    "execution": {
     "iopub.execute_input": "2022-01-03T07:07:33.744920Z",
     "iopub.status.busy": "2022-01-03T07:07:33.744326Z",
     "iopub.status.idle": "2022-01-03T07:07:33.756736Z",
     "shell.execute_reply": "2022-01-03T07:07:33.755951Z",
     "shell.execute_reply.started": "2022-01-03T07:07:33.744878Z"
    }
   },
   "outputs": [],
   "source": [
    "#TO DO: try applying the preprocessing step on 4 different part of the pic\n",
    "def preprocessingStep(img):\n",
    "\n",
    "    grayImg=rgb2gray(img)\n",
    "    \n",
    "    if(np.max(grayImg) < 1.01):\n",
    "        grayImg=grayImg*255\n",
    "        \n",
    "    gaussedImg=filters.gaussian(grayImg)\n",
    "\n",
    "    addedConst=0\n",
    "    thresh=filters.threshold_otsu(grayImg)+addedConst\n",
    "    threImg=np.copy(gaussedImg)\n",
    "    threImg[threImg>thresh]=255\n",
    "    threImg[threImg<=thresh]=0\n",
    "    \n",
    "    return threImg"
   ]
  },
  {
   "cell_type": "markdown",
   "metadata": {},
   "source": [
    "### Find and Filter Contours"
   ]
  },
  {
   "cell_type": "code",
   "execution_count": 5,
   "metadata": {
    "execution": {
     "iopub.execute_input": "2022-01-03T07:07:33.759049Z",
     "iopub.status.busy": "2022-01-03T07:07:33.758568Z",
     "iopub.status.idle": "2022-01-03T07:07:33.772730Z",
     "shell.execute_reply": "2022-01-03T07:07:33.771777Z",
     "shell.execute_reply.started": "2022-01-03T07:07:33.759016Z"
    }
   },
   "outputs": [],
   "source": [
    "#check if the contour is likely to be a card\n",
    "def CheckContour(contour):\n",
    "    \n",
    "    if(len(contour)!=5):\n",
    "        return False\n",
    "    \n",
    "    area=CalcArea(contour[:4,1],contour[:4,0])\n",
    "    if(area > MAX_AREA or area < MIN_AREA):\n",
    "        return False\n",
    "    \n",
    "    points=np.copy(contour)\n",
    "    points=np.vstack([points, points[1]])    \n",
    "    \n",
    "    for i in range(4):\n",
    "        angle=CalcAngle(points[i:i+3])\n",
    "        if(angle >MAX_ANLGE or angle < MIN_ANGLE):\n",
    "            return False\n",
    "    \n",
    "    return True\n",
    "\n",
    "#get candidate cards\n",
    "def findCardsStep(threImg):\n",
    "    \n",
    "    contours=measure.find_contours(threImg)\n",
    "\n",
    "    cards=[]\n",
    "    for contour in contours:\n",
    "        perimeter=CalcPerimeter(contour)\n",
    "        approx=measure.approximate_polygon(contour,.08*perimeter)\n",
    "        if(CheckContour(approx)==True):\n",
    "            cards.append(approx)\n",
    "            \n",
    "    return cards"
   ]
  },
  {
   "cell_type": "markdown",
   "metadata": {},
   "source": [
    "### Sort Card Corners"
   ]
  },
  {
   "cell_type": "code",
   "execution_count": 6,
   "metadata": {
    "execution": {
     "iopub.execute_input": "2022-01-03T07:07:33.774674Z",
     "iopub.status.busy": "2022-01-03T07:07:33.774336Z",
     "iopub.status.idle": "2022-01-03T07:07:33.790838Z",
     "shell.execute_reply": "2022-01-03T07:07:33.789768Z",
     "shell.execute_reply.started": "2022-01-03T07:07:33.774631Z"
    }
   },
   "outputs": [],
   "source": [
    "#sort the corners of the card\n",
    "def SortCorners(approxContour):\n",
    "    \n",
    "    corners=np.copy(approxContour[:4])\n",
    "    \n",
    "    maxIndx=0\n",
    "    maxDis=0\n",
    "    \n",
    "    for i in range(4):\n",
    "        dis=CalcDist(corners[i],corners[(i+1)%4])\n",
    "        if(dis > maxDis):\n",
    "            maxIndx=i\n",
    "            maxDis=dis\n",
    "       \n",
    "    shift=0\n",
    "    if(CalcDist(corners[maxIndx],corners[(maxIndx+1)%4]) <  CalcDist(corners[(maxIndx+1)%4],corners[(maxIndx+2)%4])):\n",
    "        shift=maxIndx\n",
    "    else:\n",
    "        shift=maxIndx+1\n",
    "        \n",
    "    corners=np.roll(corners,-shift,axis=0)\n",
    "    \n",
    "    return corners"
   ]
  },
  {
   "cell_type": "markdown",
   "metadata": {},
   "source": [
    "### Perspective Step"
   ]
  },
  {
   "cell_type": "code",
   "execution_count": 7,
   "metadata": {
    "execution": {
     "iopub.execute_input": "2022-01-03T07:07:33.792488Z",
     "iopub.status.busy": "2022-01-03T07:07:33.792249Z",
     "iopub.status.idle": "2022-01-03T07:07:33.807851Z",
     "shell.execute_reply": "2022-01-03T07:07:33.806977Z",
     "shell.execute_reply.started": "2022-01-03T07:07:33.792459Z"
    },
    "scrolled": true
   },
   "outputs": [],
   "source": [
    "row=350\n",
    "col=250\n",
    "\n",
    "def perspectiveStep(cards,img):\n",
    "\n",
    "    transCards=[]\n",
    "    \n",
    "    for card in cards:\n",
    "        dst=(SortCorners(card))[:,[1,0]].astype(int)\n",
    "        src=np.array([\n",
    "            [0,0],\n",
    "            [col,0],\n",
    "            [col,row],\n",
    "            [0,row]\n",
    "        ])\n",
    "        transMatrix=transform.ProjectiveTransform()\n",
    "        transMatrix.estimate(src,dst)\n",
    "        warpedImg=transform.warp(img,transMatrix,output_shape=(row,col))\n",
    "        transCards.append(warpedImg)\n",
    "        \n",
    "    return transCards"
   ]
  },
  {
   "cell_type": "markdown",
   "metadata": {},
   "source": [
    "### Cut and Threshold the Top Left Corner"
   ]
  },
  {
   "cell_type": "code",
   "execution_count": 8,
   "metadata": {
    "execution": {
     "iopub.execute_input": "2022-01-03T07:07:33.965771Z",
     "iopub.status.busy": "2022-01-03T07:07:33.965452Z",
     "iopub.status.idle": "2022-01-03T07:07:33.972902Z",
     "shell.execute_reply": "2022-01-03T07:07:33.972271Z",
     "shell.execute_reply.started": "2022-01-03T07:07:33.965739Z"
    }
   },
   "outputs": [],
   "source": [
    "#get the rank,suit\n",
    "\n",
    "CORNER_HIEGHT=90\n",
    "CORNER_WIDTH=40\n",
    "CORNER_THRESH=60\n",
    "\n",
    "def GetCorner(transImg):\n",
    "\n",
    "    corner=transImg[10:CORNER_HIEGHT,10:CORNER_WIDTH]\n",
    "\n",
    "    grayCorner=rgb2gray(corner)\n",
    "    \n",
    "    if(np.max(grayCorner) < 1.01):\n",
    "        grayCorner=grayCorner*255  \n",
    "    \n",
    "    thresh=filters.threshold_otsu(grayCorner)\n",
    "    \n",
    "    threCorner=grayCorner.copy()\n",
    "    threCorner[threCorner>=thresh]=255\n",
    "    threCorner[threCorner<thresh]=0\n",
    "    \n",
    "    return threCorner\n",
    "    "
   ]
  },
  {
   "cell_type": "markdown",
   "metadata": {},
   "source": [
    "### Integrate and Get Corners"
   ]
  },
  {
   "cell_type": "code",
   "execution_count": 9,
   "metadata": {
    "execution": {
     "iopub.execute_input": "2022-01-03T07:07:33.974644Z",
     "iopub.status.busy": "2022-01-03T07:07:33.974237Z",
     "iopub.status.idle": "2022-01-03T07:07:33.990686Z",
     "shell.execute_reply": "2022-01-03T07:07:33.989729Z",
     "shell.execute_reply.started": "2022-01-03T07:07:33.974608Z"
    }
   },
   "outputs": [],
   "source": [
    "def applyAlgo(img):\n",
    "    threImg=preprocessingStep(img)\n",
    "    cards=findCardsStep(threImg)\n",
    "    transCards=perspectiveStep(cards,img)\n",
    "\n",
    "    ret=[]\n",
    "    for transCard in transCards:\n",
    "       ret.append(GetCorner(transCard))\n",
    "    \n",
    "    return ret\n",
    "    \n",
    "    "
   ]
  },
  {
   "cell_type": "markdown",
   "metadata": {},
   "source": [
    "### Get the Largest Contour In The Corner -> which is the wanted symbol"
   ]
  },
  {
   "cell_type": "code",
   "execution_count": 10,
   "metadata": {
    "execution": {
     "iopub.execute_input": "2022-01-03T07:07:33.992583Z",
     "iopub.status.busy": "2022-01-03T07:07:33.992201Z",
     "iopub.status.idle": "2022-01-03T07:07:34.002513Z",
     "shell.execute_reply": "2022-01-03T07:07:34.001898Z",
     "shell.execute_reply.started": "2022-01-03T07:07:33.992542Z"
    }
   },
   "outputs": [],
   "source": [
    "RANK_WIDTH=30\n",
    "RANK_HEIGHT=40\n",
    "\n",
    "#get largest contour\n",
    "def LargestContour(img):\n",
    "    \n",
    "    contours=measure.find_contours(img)\n",
    "\n",
    "    maxArea=0\n",
    "    ret=[]\n",
    "    for contour in contours:\n",
    "        area=CalcArea(contour[:,1],contour[:,0])\n",
    "        if(area>maxArea):\n",
    "            maxArea=area\n",
    "            ret=contour\n",
    "    \n",
    "    if(len(ret)==0):\n",
    "        img=125\n",
    "        return img\n",
    "\n",
    "    l=round(np.min(ret[:,1]))\n",
    "    r=round(np.max(ret[:,1]))\n",
    "    t=round(np.min(ret[:,0]))\n",
    "    b=round(np.max(ret[:,0]))\n",
    "\n",
    "    img=img[t:b,l:r]\n",
    "    img = cv2.resize(img, (RANK_WIDTH,RANK_HEIGHT), 0, 0)\n",
    "\n",
    "    return img\n"
   ]
  },
  {
   "cell_type": "code",
   "execution_count": 14,
   "metadata": {
    "execution": {
     "iopub.execute_input": "2022-01-03T07:07:34.004020Z",
     "iopub.status.busy": "2022-01-03T07:07:34.003681Z"
    }
   },
   "outputs": [],
   "source": [
    "#apply the algorithm on the dataset\n",
    "\n",
    "\n",
    "dire=\"D:/programing/faculty of engineering/4_third year in cmp/first term/image processing/project/sevens/\"\n",
    "\n",
    "count=0\n",
    "for filename in os.listdir(dire):\n",
    "    img=io.imread(dire+filename)\n",
    "\n",
    "    h=img.shape[0]\n",
    "    w=img.shape[1]\n",
    "\n",
    "    MAX_AREA=0.314*w*h\n",
    "    MIN_AREA=0.014*w*h\n",
    "\n",
    "    rets=applyAlgo(img)\n",
    "    # show_images([img])\n",
    "    for ret in rets:\n",
    "        SUIT=40\n",
    "        RANK=50\n",
    "        suitImg=ret[SUIT:,:]\n",
    "        rankImg=ret[:RANK,:]\n",
    "\n",
    "        suitImg=LargestContour(suitImg)\n",
    "        rankImg=LargestContour(rankImg)\n",
    "\n",
    "        # cv2.imwrite('D:/programing/faculty of engineering/4_third year in cmp/first term/image processing/project/output/'+str(count)+'.jpg', suitImg)\n",
    "        # count=count+1\n",
    "        cv2.imwrite('D:/programing/faculty of engineering/4_third year in cmp/first term/image processing/project/output/'+str(count)+'.jpg', rankImg)\n",
    "        # show_images([rankImg])\n",
    "        count=count+1"
   ]
  }
 ],
 "metadata": {
  "kernelspec": {
   "display_name": "Python 3",
   "language": "python",
   "name": "python3"
  },
  "language_info": {
   "codemirror_mode": {
    "name": "ipython",
    "version": 3
   },
   "file_extension": ".py",
   "mimetype": "text/x-python",
   "name": "python",
   "nbconvert_exporter": "python",
   "pygments_lexer": "ipython3",
   "version": "3.8.8"
  }
 },
 "nbformat": 4,
 "nbformat_minor": 4
}
